{
 "cells": [
  {
   "cell_type": "code",
   "execution_count": null,
   "id": "bfe55ffb",
   "metadata": {},
   "outputs": [],
   "source": [
    "# Librairie utilisées pour requêter des pages Web\n",
    "import requests  \n",
    "# Librairie utilisée pour le scrapping de pages web\n",
    "from bs4 import BeautifulSoup\n",
    "# Librairie utilisée pour la manipulation de données sous forme de dataframes\n",
    "import pandas as pd"
   ]
  },
  {
   "cell_type": "code",
   "execution_count": null,
   "id": "e05d53f5",
   "metadata": {},
   "outputs": [],
   "source": [
    "def get_lyrics(artist, song_title):\n",
    "    '''\n",
    "    La fonction lyrique prend en entrée un artiste et un titre de chanson\n",
    "    Cela nous permet d'obtenir l'URL de la page genius sur laquelle sont renseignées les paroles\n",
    "    En cas d'échec lors du requêtage, un texte \"Lyrics not found.\" sera retourné\n",
    "    \n",
    "    /!\\ L'url ne pouvant pas dépasser une certaine taille, une condition if est présente en début de fonction\n",
    "    /!\\ La fonction actuelle ne prend pas en compte les featurings qui nécessitent une manipulation différente de \n",
    "    la chaine de caractère \n",
    "    Le volume de donnée récolté étant suffisament, la fonctionnalité n'a pas été developpée\n",
    "    '''\n",
    "    \n",
    "    if len(artist) < 30 and len(song_title) < 30 : \n",
    "        # L'URL Genius\n",
    "        url = f\"https://genius.com/{artist.replace(' ', '-').lower()}-{song_title.replace(' ', '-').lower()}-lyrics\"\n",
    "\n",
    "        # Envoie de la requête\n",
    "        response = requests.get(url)\n",
    "\n",
    "        # Utilisation de BeautifulSoup pour récupérer le texte parmi les balises html\n",
    "        soup = BeautifulSoup(response.text, 'html.parser')\n",
    "\n",
    "        # Classe des divs contenant les lyrics\n",
    "        lyrics_elements = soup.find_all(\"div\", class_=\"Lyrics__Container-sc-1ynbvzw-1 kUgSbL\")\n",
    "\n",
    "        lyrics = \"\"\n",
    "        for element in lyrics_elements:\n",
    "            lyrics += element.get_text(separator='\\n') + '\\n\\n'\n",
    "\n",
    "        # Check if lyrics were found\n",
    "        if lyrics.strip():\n",
    "            return lyrics.strip()\n",
    "        else:\n",
    "            return \"Lyrics not found.\"\n",
    "    else:\n",
    "            return \"Lyrics not found.\"   "
   ]
  },
  {
   "cell_type": "code",
   "execution_count": null,
   "id": "2719f7c4",
   "metadata": {},
   "outputs": [],
   "source": [
    "data_musique = pd.read_csv(\"../Data/songs.csv\", sep=';')\n",
    "\n",
    "count_found = 0\n",
    "\n",
    "# On stocke les chansons dans une liste\n",
    "lyrics_list = []\n",
    "for i in range(len(data_musique)) :\n",
    "    # On parcourt toutes les lignes du dataframe \n",
    "    artist = data_musique['artist'][i]\n",
    "    song_title = data_musique['name'][i]\n",
    "    # On appelle la fonction get_lyrics\n",
    "    lyrics = get_lyrics(artist, song_title)\n",
    "    if lyrics != \"Lyrics not found.\":\n",
    "        count_found +=1\n",
    "        print(count_found, '/', i)\n",
    "    \n",
    "    lyrics_list.append(lyrics)\n",
    "    \n",
    "# On ajoute les paroles au dataframe\n",
    "data_musique['lyrics'] = lyrics_list"
   ]
  },
  {
   "cell_type": "code",
   "execution_count": null,
   "id": "7d1ecbec",
   "metadata": {},
   "outputs": [],
   "source": [
    "data_musique.to_csv(\"../Data/resultat_scrap.csv\", sep=\";\")"
   ]
  }
 ],
 "metadata": {
  "kernelspec": {
   "display_name": "Python 3 (ipykernel)",
   "language": "python",
   "name": "python3"
  },
  "language_info": {
   "codemirror_mode": {
    "name": "ipython",
    "version": 3
   },
   "file_extension": ".py",
   "mimetype": "text/x-python",
   "name": "python",
   "nbconvert_exporter": "python",
   "pygments_lexer": "ipython3",
   "version": "3.10.8"
  }
 },
 "nbformat": 4,
 "nbformat_minor": 5
}
