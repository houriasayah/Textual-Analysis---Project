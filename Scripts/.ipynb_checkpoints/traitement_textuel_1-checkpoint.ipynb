{
 "cells": [
  {
   "cell_type": "code",
   "execution_count": 1,
   "id": "aecc6570",
   "metadata": {},
   "outputs": [],
   "source": [
    "import pandas as pd\n",
    "import re"
   ]
  },
  {
   "cell_type": "code",
   "execution_count": 23,
   "id": "9d655a31",
   "metadata": {},
   "outputs": [
    {
     "name": "stderr",
     "output_type": "stream",
     "text": [
      "ERROR: Could not find a version that satisfies the requirement keras.src.ops.nn.normalize (from versions: none)\n",
      "ERROR: No matching distribution found for keras.src.ops.nn.normalize\n"
     ]
    }
   ],
   "source": [
    "#pip install --upgrade tensorflow\n",
    "!pip install keras.src.ops.nn.normalize"
   ]
  },
  {
   "cell_type": "code",
   "execution_count": 17,
   "id": "ff94523f",
   "metadata": {},
   "outputs": [],
   "source": [
    "def supprimer_occurences(chaine):\n",
    "    pattern = r'\\[.*?\\]'\n",
    "    return re.sub(pattern, '', chaine)\n",
    "\n",
    "def supprimer_saut(chaine):\n",
    "    return chaine.replace('\\n', ' ')\n"
   ]
  },
  {
   "cell_type": "code",
   "execution_count": 26,
   "id": "f75e9fcc",
   "metadata": {},
   "outputs": [
    {
     "data": {
      "text/html": [
       "<div>\n",
       "<style scoped>\n",
       "    .dataframe tbody tr th:only-of-type {\n",
       "        vertical-align: middle;\n",
       "    }\n",
       "\n",
       "    .dataframe tbody tr th {\n",
       "        vertical-align: top;\n",
       "    }\n",
       "\n",
       "    .dataframe thead th {\n",
       "        text-align: right;\n",
       "    }\n",
       "</style>\n",
       "<table border=\"1\" class=\"dataframe\">\n",
       "  <thead>\n",
       "    <tr style=\"text-align: right;\">\n",
       "      <th></th>\n",
       "      <th>spotify_id</th>\n",
       "      <th>name</th>\n",
       "      <th>artist</th>\n",
       "      <th>position</th>\n",
       "      <th>genre_name</th>\n",
       "      <th>lyrics</th>\n",
       "    </tr>\n",
       "  </thead>\n",
       "  <tbody>\n",
       "    <tr>\n",
       "      <th>0</th>\n",
       "      <td>3B7i9OKRRmIsSBHEbJz58Y</td>\n",
       "      <td>Grind With Me</td>\n",
       "      <td>Pretty Ricky</td>\n",
       "      <td>10.0</td>\n",
       "      <td>pop rap</td>\n",
       "      <td>[Intro: Pleasure P]\\nOhh\\nOoh-oh, yeah\\nHey, h...</td>\n",
       "    </tr>\n",
       "    <tr>\n",
       "      <th>1</th>\n",
       "      <td>0kPgn96FXEO9Bnz9QN1Tc0</td>\n",
       "      <td>We In Da City</td>\n",
       "      <td>Young Dro</td>\n",
       "      <td>18.0</td>\n",
       "      <td>pop rap</td>\n",
       "      <td>[Intro]\\nYeah yeah\\nYeah yeah\\nYeah yeah\\nYeah...</td>\n",
       "    </tr>\n",
       "    <tr>\n",
       "      <th>2</th>\n",
       "      <td>6Y9kdB2O0h9gq9y2vclsWT</td>\n",
       "      <td>Shorty Wanna Ride</td>\n",
       "      <td>Young Buck</td>\n",
       "      <td>22.0</td>\n",
       "      <td>pop rap</td>\n",
       "      <td>[Intro]\\nShorty wanna ride with me (Ride with ...</td>\n",
       "    </tr>\n",
       "    <tr>\n",
       "      <th>3</th>\n",
       "      <td>0svl7cK07gK1ia5ainczU5</td>\n",
       "      <td>Break Ya Neck</td>\n",
       "      <td>Busta Rhymes</td>\n",
       "      <td>28.0</td>\n",
       "      <td>pop rap</td>\n",
       "      <td>[Intro: Busta Rhymes]\\nYeah, check it out, see...</td>\n",
       "    </tr>\n",
       "    <tr>\n",
       "      <th>4</th>\n",
       "      <td>1DFPibRb9RU3yfM3wOLdDT</td>\n",
       "      <td>Tru</td>\n",
       "      <td>Lloyd</td>\n",
       "      <td>32.0</td>\n",
       "      <td>pop rap</td>\n",
       "      <td>[Intro]\\nI lost it all, my friends, my loved o...</td>\n",
       "    </tr>\n",
       "  </tbody>\n",
       "</table>\n",
       "</div>"
      ],
      "text/plain": [
       "               spotify_id               name        artist  position  \\\n",
       "0  3B7i9OKRRmIsSBHEbJz58Y      Grind With Me  Pretty Ricky      10.0   \n",
       "1  0kPgn96FXEO9Bnz9QN1Tc0      We In Da City     Young Dro      18.0   \n",
       "2  6Y9kdB2O0h9gq9y2vclsWT  Shorty Wanna Ride    Young Buck      22.0   \n",
       "3  0svl7cK07gK1ia5ainczU5      Break Ya Neck  Busta Rhymes      28.0   \n",
       "4  1DFPibRb9RU3yfM3wOLdDT                Tru         Lloyd      32.0   \n",
       "\n",
       "  genre_name                                             lyrics  \n",
       "0    pop rap  [Intro: Pleasure P]\\nOhh\\nOoh-oh, yeah\\nHey, h...  \n",
       "1    pop rap  [Intro]\\nYeah yeah\\nYeah yeah\\nYeah yeah\\nYeah...  \n",
       "2    pop rap  [Intro]\\nShorty wanna ride with me (Ride with ...  \n",
       "3    pop rap  [Intro: Busta Rhymes]\\nYeah, check it out, see...  \n",
       "4    pop rap  [Intro]\\nI lost it all, my friends, my loved o...  "
      ]
     },
     "execution_count": 26,
     "metadata": {},
     "output_type": "execute_result"
    }
   ],
   "source": [
    "df = pd.read_csv(\"raw_data.csv\", sep=';')\n",
    "df = df.drop(columns = \"Unnamed: 0\")\n",
    "df.head()"
   ]
  },
  {
   "cell_type": "code",
   "execution_count": 27,
   "id": "f0ecd728",
   "metadata": {},
   "outputs": [],
   "source": [
    "df[\"lyrics\"] = df[\"lyrics\"].apply(supprimer_saut)\n",
    "df[\"lyrics\"] = df[\"lyrics\"].apply(supprimer_occurences)"
   ]
  },
  {
   "cell_type": "code",
   "execution_count": 28,
   "id": "db74d028",
   "metadata": {},
   "outputs": [
    {
     "data": {
      "text/html": [
       "<div>\n",
       "<style scoped>\n",
       "    .dataframe tbody tr th:only-of-type {\n",
       "        vertical-align: middle;\n",
       "    }\n",
       "\n",
       "    .dataframe tbody tr th {\n",
       "        vertical-align: top;\n",
       "    }\n",
       "\n",
       "    .dataframe thead th {\n",
       "        text-align: right;\n",
       "    }\n",
       "</style>\n",
       "<table border=\"1\" class=\"dataframe\">\n",
       "  <thead>\n",
       "    <tr style=\"text-align: right;\">\n",
       "      <th></th>\n",
       "      <th>spotify_id</th>\n",
       "      <th>name</th>\n",
       "      <th>artist</th>\n",
       "      <th>position</th>\n",
       "      <th>genre_name</th>\n",
       "      <th>lyrics</th>\n",
       "    </tr>\n",
       "  </thead>\n",
       "  <tbody>\n",
       "  </tbody>\n",
       "</table>\n",
       "</div>"
      ],
      "text/plain": [
       "Empty DataFrame\n",
       "Columns: [spotify_id, name, artist, position, genre_name, lyrics]\n",
       "Index: []"
      ]
     },
     "execution_count": 28,
     "metadata": {},
     "output_type": "execute_result"
    }
   ],
   "source": [
    "df[df['lyrics'].str.contains(r'\\[.*?\\]')]"
   ]
  },
  {
   "cell_type": "code",
   "execution_count": 29,
   "id": "b3402838",
   "metadata": {},
   "outputs": [],
   "source": [
    "df.to_csv(\"treated_df.csv\", sep=';')"
   ]
  }
 ],
 "metadata": {
  "kernelspec": {
   "display_name": "Python 3 (ipykernel)",
   "language": "python",
   "name": "python3"
  },
  "language_info": {
   "codemirror_mode": {
    "name": "ipython",
    "version": 3
   },
   "file_extension": ".py",
   "mimetype": "text/x-python",
   "name": "python",
   "nbconvert_exporter": "python",
   "pygments_lexer": "ipython3",
   "version": "3.9.13"
  }
 },
 "nbformat": 4,
 "nbformat_minor": 5
}
