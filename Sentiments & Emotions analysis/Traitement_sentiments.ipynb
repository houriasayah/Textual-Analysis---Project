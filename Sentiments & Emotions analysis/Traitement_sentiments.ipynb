{
  "nbformat": 4,
  "nbformat_minor": 0,
  "metadata": {
    "colab": {
      "provenance": []
    },
    "kernelspec": {
      "name": "python3",
      "display_name": "Python 3"
    },
    "language_info": {
      "name": "python"
    }
  },
  "cells": [
    {
      "cell_type": "code",
      "execution_count": 1,
      "metadata": {
        "colab": {
          "base_uri": "https://localhost:8080/"
        },
        "id": "FReDRsefvBC9",
        "outputId": "33aa4d39-0c49-468c-d583-9de87ba58d24"
      },
      "outputs": [
        {
          "output_type": "stream",
          "name": "stdout",
          "text": [
            "                 spotify_id                           name  \\\n",
            "0    3B7i9OKRRmIsSBHEbJz58Y                  Grind With Me   \n",
            "1    0kPgn96FXEO9Bnz9QN1Tc0                  We In Da City   \n",
            "2    6Y9kdB2O0h9gq9y2vclsWT              Shorty Wanna Ride   \n",
            "3    0svl7cK07gK1ia5ainczU5                  Break Ya Neck   \n",
            "4    1DFPibRb9RU3yfM3wOLdDT                            Tru   \n",
            "..                      ...                            ...   \n",
            "995  3lByG4HaJLMdGLGFUegeFL  How Can We Hang On To A Dream   \n",
            "996  6zBpwjeoQPbBaqMveqms5k                  Fresh-Garbage   \n",
            "997  0fFtudFYi0ZJwGQEZEh6PU                           Jane   \n",
            "998  1L8n3DR0g5w36X51i2k8A4                Pleasant Street   \n",
            "999  6axc86nSmNUUZqu8oUIOlW                      Walk Away   \n",
            "\n",
            "                 artist  position genre_name  \\\n",
            "0          Pretty Ricky      10.0    pop rap   \n",
            "1             Young Dro      18.0    pop rap   \n",
            "2            Young Buck      22.0    pop rap   \n",
            "3          Busta Rhymes      28.0    pop rap   \n",
            "4                 Lloyd      32.0    pop rap   \n",
            "..                  ...       ...        ...   \n",
            "995          Tim Hardin     175.0  folk rock   \n",
            "996              Spirit     177.0  folk rock   \n",
            "997  Jefferson Starship     178.0  folk rock   \n",
            "998         Tim Buckley     180.0  folk rock   \n",
            "999          James Gang     181.0  folk rock   \n",
            "\n",
            "                                                lyrics language  \\\n",
            "0     Ohh Ooh-oh, yeah Hey, hey, hey, yeah  Baby, g...       en   \n",
            "1     Yeah yeah Yeah yeah Yeah yeah Yeah yeah Young...       en   \n",
            "2     Shorty wanna ride with me (Ride with me) Shor...       en   \n",
            "3     Yeah, check it out, see The only thing you ne...       en   \n",
            "4     I lost it all, my friends, my loved ones But ...       en   \n",
            "..                                                 ...      ...   \n",
            "995  {Intro} What can I say, she's walking away Fro...       en   \n",
            "996  Fresh garbage Fresh garbage Look beneath your ...       en   \n",
            "997  Jane, you say it's all over for you and me, gi...       en   \n",
            "998  You don't remember what to say You don't remem...       en   \n",
            "999   Taking my time Choosin' my line Tryin' to dec...       en   \n",
            "\n",
            "                                 sentiment_predictions  \\\n",
            "0    ([0.6729375, 0.793936, 0.613213, 0.55550003, 0...   \n",
            "1    ([0.0858654, 0.110725485, 0.05365458, 0.027346...   \n",
            "2    ([0.069035515, 0.06687353, 0.1288388, 0.153501...   \n",
            "3    ([0.101316445, 0.056598846, 0.057969436, 0.103...   \n",
            "4    ([0.15047902, 0.46089745, 0.42641047, 0.783993...   \n",
            "..                                                 ...   \n",
            "995  ([0.12679602, 0.36022598], [0.7549644, 0.60836...   \n",
            "996          ([0.03223871], [0.3861336], [0.58162767])   \n",
            "997  ([0.09884233, 0.13631538], [0.5562907, 0.53890...   \n",
            "998  ([0.09452938, 0.42325038, 0.020051733], [0.481...   \n",
            "999  ([0.050404176, 0.055886548], [0.402121, 0.4831...   \n",
            "\n",
            "     average_positive_score  average_neutral_score  average_negative_score  \n",
            "0                  0.668232               0.317235                0.014532  \n",
            "1                  0.069398               0.561657                0.368945  \n",
            "2                  0.098137               0.687468                0.214395  \n",
            "3                  0.061494               0.441140                0.497366  \n",
            "4                  0.453022               0.452234                0.094744  \n",
            "..                      ...                    ...                     ...  \n",
            "995                0.243511               0.681664                0.074825  \n",
            "996                0.032239               0.386134                0.581628  \n",
            "997                0.117579               0.547600                0.334821  \n",
            "998                0.179277               0.427386                0.393337  \n",
            "999                0.053145               0.442621                0.504233  \n",
            "\n",
            "[5000 rows x 11 columns]\n"
          ]
        }
      ],
      "source": [
        "import pandas as pd\n",
        "\n",
        "# Création d'une liste pour stocker les DataFrames\n",
        "dataframes = []\n",
        "\n",
        "# Parcours des fichiers de 1 à 6\n",
        "for i in range(1, 6):\n",
        "    # Construction du nom de fichier\n",
        "    nom_fichier = f\"sentiments_predictions{i}.csv\"\n",
        "    # Lecture du fichier CSV et ajout du DataFrame à la liste\n",
        "    df = pd.read_csv(nom_fichier, sep=',')\n",
        "    dataframes.append(df)\n",
        "\n",
        "# Concaténation des DataFrames\n",
        "concatenated_df = pd.concat(dataframes)\n",
        "\n",
        "# Affichage du DataFrame concaténé\n",
        "print(concatenated_df)"
      ]
    },
    {
      "cell_type": "code",
      "source": [
        "# Suppression des colonnes \"emotion_scores\" et \"emotion_prediction\"\n",
        "concatenated_df = concatenated_df.drop(columns=[\"sentiment_predictions\"])\n",
        "\n",
        "# Affichage du DataFrame après suppression des colonnes\n",
        "print(concatenated_df)\n"
      ],
      "metadata": {
        "colab": {
          "base_uri": "https://localhost:8080/"
        },
        "id": "-QYIlY0gv4Mc",
        "outputId": "91648eac-f397-4f56-f693-bef9e2b14554"
      },
      "execution_count": 2,
      "outputs": [
        {
          "output_type": "stream",
          "name": "stdout",
          "text": [
            "                 spotify_id                           name  \\\n",
            "0    3B7i9OKRRmIsSBHEbJz58Y                  Grind With Me   \n",
            "1    0kPgn96FXEO9Bnz9QN1Tc0                  We In Da City   \n",
            "2    6Y9kdB2O0h9gq9y2vclsWT              Shorty Wanna Ride   \n",
            "3    0svl7cK07gK1ia5ainczU5                  Break Ya Neck   \n",
            "4    1DFPibRb9RU3yfM3wOLdDT                            Tru   \n",
            "..                      ...                            ...   \n",
            "995  3lByG4HaJLMdGLGFUegeFL  How Can We Hang On To A Dream   \n",
            "996  6zBpwjeoQPbBaqMveqms5k                  Fresh-Garbage   \n",
            "997  0fFtudFYi0ZJwGQEZEh6PU                           Jane   \n",
            "998  1L8n3DR0g5w36X51i2k8A4                Pleasant Street   \n",
            "999  6axc86nSmNUUZqu8oUIOlW                      Walk Away   \n",
            "\n",
            "                 artist  position genre_name  \\\n",
            "0          Pretty Ricky      10.0    pop rap   \n",
            "1             Young Dro      18.0    pop rap   \n",
            "2            Young Buck      22.0    pop rap   \n",
            "3          Busta Rhymes      28.0    pop rap   \n",
            "4                 Lloyd      32.0    pop rap   \n",
            "..                  ...       ...        ...   \n",
            "995          Tim Hardin     175.0  folk rock   \n",
            "996              Spirit     177.0  folk rock   \n",
            "997  Jefferson Starship     178.0  folk rock   \n",
            "998         Tim Buckley     180.0  folk rock   \n",
            "999          James Gang     181.0  folk rock   \n",
            "\n",
            "                                                lyrics language  \\\n",
            "0     Ohh Ooh-oh, yeah Hey, hey, hey, yeah  Baby, g...       en   \n",
            "1     Yeah yeah Yeah yeah Yeah yeah Yeah yeah Young...       en   \n",
            "2     Shorty wanna ride with me (Ride with me) Shor...       en   \n",
            "3     Yeah, check it out, see The only thing you ne...       en   \n",
            "4     I lost it all, my friends, my loved ones But ...       en   \n",
            "..                                                 ...      ...   \n",
            "995  {Intro} What can I say, she's walking away Fro...       en   \n",
            "996  Fresh garbage Fresh garbage Look beneath your ...       en   \n",
            "997  Jane, you say it's all over for you and me, gi...       en   \n",
            "998  You don't remember what to say You don't remem...       en   \n",
            "999   Taking my time Choosin' my line Tryin' to dec...       en   \n",
            "\n",
            "     average_positive_score  average_neutral_score  average_negative_score  \n",
            "0                  0.668232               0.317235                0.014532  \n",
            "1                  0.069398               0.561657                0.368945  \n",
            "2                  0.098137               0.687468                0.214395  \n",
            "3                  0.061494               0.441140                0.497366  \n",
            "4                  0.453022               0.452234                0.094744  \n",
            "..                      ...                    ...                     ...  \n",
            "995                0.243511               0.681664                0.074825  \n",
            "996                0.032239               0.386134                0.581628  \n",
            "997                0.117579               0.547600                0.334821  \n",
            "998                0.179277               0.427386                0.393337  \n",
            "999                0.053145               0.442621                0.504233  \n",
            "\n",
            "[5000 rows x 10 columns]\n"
          ]
        }
      ]
    },
    {
      "cell_type": "code",
      "source": [
        "concatenated_df = concatenated_df.rename(columns={'average_positive_score': 'positive score', 'average_neutral_score' : 'neutral score', 'average_negative_score' : 'negative score'})"
      ],
      "metadata": {
        "id": "opBzC9Z5wIDS"
      },
      "execution_count": 3,
      "outputs": []
    },
    {
      "cell_type": "code",
      "source": [
        "print(concatenated_df)"
      ],
      "metadata": {
        "colab": {
          "base_uri": "https://localhost:8080/"
        },
        "id": "f2kfNkJLwWyp",
        "outputId": "18c073e0-2ec6-430e-e4e8-c4d7aaca4877"
      },
      "execution_count": 4,
      "outputs": [
        {
          "output_type": "stream",
          "name": "stdout",
          "text": [
            "                 spotify_id                           name  \\\n",
            "0    3B7i9OKRRmIsSBHEbJz58Y                  Grind With Me   \n",
            "1    0kPgn96FXEO9Bnz9QN1Tc0                  We In Da City   \n",
            "2    6Y9kdB2O0h9gq9y2vclsWT              Shorty Wanna Ride   \n",
            "3    0svl7cK07gK1ia5ainczU5                  Break Ya Neck   \n",
            "4    1DFPibRb9RU3yfM3wOLdDT                            Tru   \n",
            "..                      ...                            ...   \n",
            "995  3lByG4HaJLMdGLGFUegeFL  How Can We Hang On To A Dream   \n",
            "996  6zBpwjeoQPbBaqMveqms5k                  Fresh-Garbage   \n",
            "997  0fFtudFYi0ZJwGQEZEh6PU                           Jane   \n",
            "998  1L8n3DR0g5w36X51i2k8A4                Pleasant Street   \n",
            "999  6axc86nSmNUUZqu8oUIOlW                      Walk Away   \n",
            "\n",
            "                 artist  position genre_name  \\\n",
            "0          Pretty Ricky      10.0    pop rap   \n",
            "1             Young Dro      18.0    pop rap   \n",
            "2            Young Buck      22.0    pop rap   \n",
            "3          Busta Rhymes      28.0    pop rap   \n",
            "4                 Lloyd      32.0    pop rap   \n",
            "..                  ...       ...        ...   \n",
            "995          Tim Hardin     175.0  folk rock   \n",
            "996              Spirit     177.0  folk rock   \n",
            "997  Jefferson Starship     178.0  folk rock   \n",
            "998         Tim Buckley     180.0  folk rock   \n",
            "999          James Gang     181.0  folk rock   \n",
            "\n",
            "                                                lyrics language  \\\n",
            "0     Ohh Ooh-oh, yeah Hey, hey, hey, yeah  Baby, g...       en   \n",
            "1     Yeah yeah Yeah yeah Yeah yeah Yeah yeah Young...       en   \n",
            "2     Shorty wanna ride with me (Ride with me) Shor...       en   \n",
            "3     Yeah, check it out, see The only thing you ne...       en   \n",
            "4     I lost it all, my friends, my loved ones But ...       en   \n",
            "..                                                 ...      ...   \n",
            "995  {Intro} What can I say, she's walking away Fro...       en   \n",
            "996  Fresh garbage Fresh garbage Look beneath your ...       en   \n",
            "997  Jane, you say it's all over for you and me, gi...       en   \n",
            "998  You don't remember what to say You don't remem...       en   \n",
            "999   Taking my time Choosin' my line Tryin' to dec...       en   \n",
            "\n",
            "     positive score  neutral score  negative score  \n",
            "0          0.668232       0.317235        0.014532  \n",
            "1          0.069398       0.561657        0.368945  \n",
            "2          0.098137       0.687468        0.214395  \n",
            "3          0.061494       0.441140        0.497366  \n",
            "4          0.453022       0.452234        0.094744  \n",
            "..              ...            ...             ...  \n",
            "995        0.243511       0.681664        0.074825  \n",
            "996        0.032239       0.386134        0.581628  \n",
            "997        0.117579       0.547600        0.334821  \n",
            "998        0.179277       0.427386        0.393337  \n",
            "999        0.053145       0.442621        0.504233  \n",
            "\n",
            "[5000 rows x 10 columns]\n"
          ]
        }
      ]
    },
    {
      "cell_type": "code",
      "source": [
        "# Exporter le DataFrame en tant que fichier CSV\n",
        "concatenated_df.to_csv(\"sentiments_df.csv\", index=False)"
      ],
      "metadata": {
        "id": "K8vEQIqFv5l4"
      },
      "execution_count": 5,
      "outputs": []
    }
  ]
}