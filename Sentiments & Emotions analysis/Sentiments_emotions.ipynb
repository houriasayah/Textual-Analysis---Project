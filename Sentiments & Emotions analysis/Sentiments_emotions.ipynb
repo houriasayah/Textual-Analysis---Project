{
  "nbformat": 4,
  "nbformat_minor": 0,
  "metadata": {
    "colab": {
      "provenance": []
    },
    "kernelspec": {
      "name": "python3",
      "display_name": "Python 3"
    },
    "language_info": {
      "name": "python"
    }
  },
  "cells": [
    {
      "cell_type": "code",
      "execution_count": 1,
      "metadata": {
        "id": "Tgpe0Um-xCWI"
      },
      "outputs": [],
      "source": [
        "import pandas as pd\n",
        "emotions = pd.read_csv(\"emotions_df.csv\", sep=',')\n",
        "sentiments = pd.read_csv(\"sentiments_df.csv\", sep=',')"
      ]
    },
    {
      "cell_type": "code",
      "source": [
        "print(emotions)"
      ],
      "metadata": {
        "colab": {
          "base_uri": "https://localhost:8080/"
        },
        "id": "JwuuoMpnxX8S",
        "outputId": "5fab2bfa-c5a5-4c04-a1a9-3b65681ec7f9"
      },
      "execution_count": 2,
      "outputs": [
        {
          "output_type": "stream",
          "name": "stdout",
          "text": [
            "                   spotify_id                 name              artist  \\\n",
            "0      3B7i9OKRRmIsSBHEbJz58Y        Grind With Me        Pretty Ricky   \n",
            "1      0kPgn96FXEO9Bnz9QN1Tc0        We In Da City           Young Dro   \n",
            "2      6Y9kdB2O0h9gq9y2vclsWT    Shorty Wanna Ride          Young Buck   \n",
            "3      0svl7cK07gK1ia5ainczU5        Break Ya Neck        Busta Rhymes   \n",
            "4      1DFPibRb9RU3yfM3wOLdDT                  Tru               Lloyd   \n",
            "...                       ...                  ...                 ...   \n",
            "10301  35kAc40pbM9VpzQvnNMAZO             Raw Shit              Jaylib   \n",
            "10302  46ePNyvaDBKsxusDXDj7Wg              Wipeout            Fat Boys   \n",
            "10303  6msTUCqIfVOWe7pzWGzh6F     Leaving the Past  Immortal Technique   \n",
            "10304  5o7zlUWDdRlunP9S0OTm9R  Crumbs On the Table              D-Nice   \n",
            "10305  41gBEkVcxU4FSjVpOGWxsB       Wild Wild West        Kool Moe Dee   \n",
            "\n",
            "       position          genre_name  \\\n",
            "0          10.0             pop rap   \n",
            "1          18.0             pop rap   \n",
            "2          22.0             pop rap   \n",
            "3          28.0             pop rap   \n",
            "4          32.0             pop rap   \n",
            "...         ...                 ...   \n",
            "10301     102.0  east coast hip hop   \n",
            "10302     114.0  east coast hip hop   \n",
            "10303     118.0  east coast hip hop   \n",
            "10304     123.0  east coast hip hop   \n",
            "10305     125.0  east coast hip hop   \n",
            "\n",
            "                                                  lyrics language   sadness  \\\n",
            "0       Ohh Ooh-oh, yeah Hey, hey, hey, yeah  Baby, g...       en  0.550551   \n",
            "1       Yeah yeah Yeah yeah Yeah yeah Yeah yeah Young...       en  0.033787   \n",
            "2       Shorty wanna ride with me (Ride with me) Shor...       en  0.151012   \n",
            "3       Yeah, check it out, see The only thing you ne...       en  0.090050   \n",
            "4       I lost it all, my friends, my loved ones But ...       en  0.251695   \n",
            "...                                                  ...      ...       ...   \n",
            "10301   Uh Feel it (Yeah, yeah) Check it now What'd y...       en  0.020034   \n",
            "10302   Hehehehehehee, wipeout  Wiping out, wipeout W...       en  0.062656   \n",
            "10303   They told me I would never make it, I would n...       en  0.131187   \n",
            "10304  (Is that a turntable? Well get on it, it's you...       en  0.022696   \n",
            "10305   The wild wild west The wild wild west The wil...       en  0.025589   \n",
            "\n",
            "            joy      love     anger      fear  surprise  \n",
            "0      0.427213  0.005702  0.009296  0.006384  0.000854  \n",
            "1      0.064466  0.003177  0.891535  0.006122  0.000913  \n",
            "2      0.004551  0.000930  0.144544  0.698323  0.000641  \n",
            "3      0.073717  0.002059  0.772442  0.059686  0.002046  \n",
            "4      0.704272  0.034831  0.007948  0.000806  0.000449  \n",
            "...         ...       ...       ...       ...       ...  \n",
            "10301  0.101785  0.147750  0.723672  0.004430  0.002329  \n",
            "10302  0.247585  0.004401  0.639826  0.042237  0.003294  \n",
            "10303  0.151654  0.002472  0.560621  0.152947  0.001118  \n",
            "10304  0.331866  0.001679  0.629799  0.012804  0.001155  \n",
            "10305  0.407503  0.010542  0.539361  0.014074  0.002930  \n",
            "\n",
            "[10306 rows x 13 columns]\n"
          ]
        }
      ]
    },
    {
      "cell_type": "code",
      "source": [
        "# Faire la jointure en utilisant plusieurs colonnes comme clés\n",
        "merged_df = pd.merge(emotions, sentiments, on=['spotify_id', 'name', 'artist', 'position', 'genre_name', 'lyrics', 'language'], how='inner')\n",
        "\n",
        "# Afficher le DataFrame résultant\n",
        "print(merged_df)"
      ],
      "metadata": {
        "colab": {
          "base_uri": "https://localhost:8080/"
        },
        "id": "Um1varapxm8g",
        "outputId": "a0a05abd-5bd2-428d-ab7c-52af0821ec2a"
      },
      "execution_count": 4,
      "outputs": [
        {
          "output_type": "stream",
          "name": "stdout",
          "text": [
            "                  spotify_id                           name  \\\n",
            "0     3B7i9OKRRmIsSBHEbJz58Y                  Grind With Me   \n",
            "1     0kPgn96FXEO9Bnz9QN1Tc0                  We In Da City   \n",
            "2     6Y9kdB2O0h9gq9y2vclsWT              Shorty Wanna Ride   \n",
            "3     0svl7cK07gK1ia5ainczU5                  Break Ya Neck   \n",
            "4     1DFPibRb9RU3yfM3wOLdDT                            Tru   \n",
            "...                      ...                            ...   \n",
            "4052  3lByG4HaJLMdGLGFUegeFL  How Can We Hang On To A Dream   \n",
            "4053  6zBpwjeoQPbBaqMveqms5k                  Fresh-Garbage   \n",
            "4054  0fFtudFYi0ZJwGQEZEh6PU                           Jane   \n",
            "4055  1L8n3DR0g5w36X51i2k8A4                Pleasant Street   \n",
            "4056  6axc86nSmNUUZqu8oUIOlW                      Walk Away   \n",
            "\n",
            "                  artist  position genre_name  \\\n",
            "0           Pretty Ricky      10.0    pop rap   \n",
            "1              Young Dro      18.0    pop rap   \n",
            "2             Young Buck      22.0    pop rap   \n",
            "3           Busta Rhymes      28.0    pop rap   \n",
            "4                  Lloyd      32.0    pop rap   \n",
            "...                  ...       ...        ...   \n",
            "4052          Tim Hardin     175.0  folk rock   \n",
            "4053              Spirit     177.0  folk rock   \n",
            "4054  Jefferson Starship     178.0  folk rock   \n",
            "4055         Tim Buckley     180.0  folk rock   \n",
            "4056          James Gang     181.0  folk rock   \n",
            "\n",
            "                                                 lyrics language   sadness  \\\n",
            "0      Ohh Ooh-oh, yeah Hey, hey, hey, yeah  Baby, g...       en  0.550551   \n",
            "1      Yeah yeah Yeah yeah Yeah yeah Yeah yeah Young...       en  0.033787   \n",
            "2      Shorty wanna ride with me (Ride with me) Shor...       en  0.151012   \n",
            "3      Yeah, check it out, see The only thing you ne...       en  0.090050   \n",
            "4      I lost it all, my friends, my loved ones But ...       en  0.251695   \n",
            "...                                                 ...      ...       ...   \n",
            "4052  {Intro} What can I say, she's walking away Fro...       en  0.001324   \n",
            "4053  Fresh garbage Fresh garbage Look beneath your ...       en  0.003441   \n",
            "4054  Jane, you say it's all over for you and me, gi...       en  0.013646   \n",
            "4055  You don't remember what to say You don't remem...       en  0.282121   \n",
            "4056   Taking my time Choosin' my line Tryin' to dec...       en  0.155170   \n",
            "\n",
            "           joy      love     anger      fear  surprise  positive score  \\\n",
            "0     0.427213  0.005702  0.009296  0.006384  0.000854        0.668232   \n",
            "1     0.064466  0.003177  0.891535  0.006122  0.000913        0.069398   \n",
            "2     0.004551  0.000930  0.144544  0.698323  0.000641        0.098137   \n",
            "3     0.073717  0.002059  0.772442  0.059686  0.002046        0.061494   \n",
            "4     0.704272  0.034831  0.007948  0.000806  0.000449        0.453022   \n",
            "...        ...       ...       ...       ...       ...             ...   \n",
            "4052  0.002179  0.994867  0.000581  0.000433  0.000616        0.243511   \n",
            "4053  0.991991  0.000955  0.002697  0.000417  0.000500        0.032239   \n",
            "4054  0.802248  0.005216  0.172937  0.004687  0.001265        0.117579   \n",
            "4055  0.020560  0.004579  0.625592  0.065532  0.001616        0.179277   \n",
            "4056  0.573167  0.003164  0.264223  0.003258  0.001018        0.053145   \n",
            "\n",
            "      neutral score  negative score  \n",
            "0          0.317235        0.014532  \n",
            "1          0.561657        0.368945  \n",
            "2          0.687468        0.214395  \n",
            "3          0.441140        0.497366  \n",
            "4          0.452234        0.094744  \n",
            "...             ...             ...  \n",
            "4052       0.681664        0.074825  \n",
            "4053       0.386134        0.581628  \n",
            "4054       0.547600        0.334821  \n",
            "4055       0.427386        0.393337  \n",
            "4056       0.442621        0.504233  \n",
            "\n",
            "[4057 rows x 16 columns]\n"
          ]
        }
      ]
    },
    {
      "cell_type": "code",
      "source": [
        "merged_df.to_csv(\"sentiments_emotions_df.csv\", index=False)"
      ],
      "metadata": {
        "id": "rWiYDrS1x_8f"
      },
      "execution_count": 5,
      "outputs": []
    }
  ]
}